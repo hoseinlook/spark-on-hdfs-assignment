{
 "cells": [
  {
   "cell_type": "markdown",
   "id": "36645f74",
   "metadata": {},
   "source": [
    "<div align=\"middle\">\n",
    "  <h1><b><i>تمرین چهارم</i></b></h1>\n",
    " </div>\n",
    "\n",
    "\n"
   ]
  },
  {
   "cell_type": "code",
   "execution_count": 61,
   "id": "f64852f8",
   "metadata": {},
   "outputs": [],
   "source": [
    "import pyspark\n",
    "from pyspark import SparkContext \n",
    "from pyspark.sql import SparkSession,Row\n",
    "from pyspark.sql.functions import col ,mean ,stddev,count\n",
    "\n"
   ]
  },
  {
   "cell_type": "markdown",
   "id": "98c13a67",
   "metadata": {},
   "source": [
    "\n",
    "<div align=\"right\" dir=\"auto\">\n",
    "   \n",
    "#  اتصال به کلاستر اسپارک \n",
    "\n",
    "    در این قسمت از تمرین باید به عنوان درایور یک سسشن به اسپارک بسازیم.\n",
    " </div>\n",
    "  \n",
    "    "
   ]
  },
  {
   "cell_type": "code",
   "execution_count": 42,
   "id": "8c8a9120",
   "metadata": {},
   "outputs": [
    {
     "data": {
      "text/html": [
       "\n",
       "            <div>\n",
       "                <p><b>SparkSession - in-memory</b></p>\n",
       "                \n",
       "        <div>\n",
       "            <p><b>SparkContext</b></p>\n",
       "\n",
       "            <p><a href=\"http://10.20.30.100:4040\">Spark UI</a></p>\n",
       "\n",
       "            <dl>\n",
       "              <dt>Version</dt>\n",
       "                <dd><code>v3.0.0</code></dd>\n",
       "              <dt>Master</dt>\n",
       "                <dd><code>spark://spark-master:7077</code></dd>\n",
       "              <dt>AppName</dt>\n",
       "                <dd><code>homework3</code></dd>\n",
       "            </dl>\n",
       "        </div>\n",
       "        \n",
       "            </div>\n",
       "        "
      ],
      "text/plain": [
       "<pyspark.sql.session.SparkSession at 0x7f3e4c41fcd0>"
      ]
     },
     "execution_count": 42,
     "metadata": {},
     "output_type": "execute_result"
    },
    {
     "name": "stderr",
     "output_type": "stream",
     "text": [
      "[Stage 0:>                                                          (0 + 1) / 1]\r"
     ]
    }
   ],
   "source": [
    "spark_session = SparkSession.builder.appName(\"homework3\").master(\"spark://spark-master:7077\").config(\"fs.defaultFS\",\"hdfs://namenode:9000/\").getOrCreate()\n",
    "spark_session"
   ]
  },
  {
   "cell_type": "markdown",
   "id": "c7e7a01a",
   "metadata": {},
   "source": [
    "\n",
    "<div align=\"right\" dir=\"auto\">\n",
    "   \n",
    "#  خواندن داده \n",
    "\n",
    "    :در اسپارک ما ساختارهای مختلفی برای کار با داده و پخش شدن آن‌ها در شبکه داریم که به ۳ دسته تقسیم بندی میشوند \n",
    "+ RDD\n",
    "+ Dataset\n",
    "+ DataFrame\n",
    "    \n",
    "    \n",
    "     برای مطالعه بیشتر به لینک زیر مراجعه کنید:\n",
    "[این لینک](https://phoenixnap.com/kb/rdd-vs-dataframe-vs-dataset)\n",
    "\n",
    "    ما در درس با ساختار RDD آشنا شدیم حال در این تمرین میخواهیم با ساختار Dataframe آشنا شویم به به کمک آن دیتا را از روی HDFS بخوانیم و روی آن فایل‌ها پردازش انجام دهیم\n",
    " \n",
    " </div>\n",
    "  \n",
    "    "
   ]
  },
  {
   "cell_type": "code",
   "execution_count": 47,
   "id": "dfe2fda4",
   "metadata": {},
   "outputs": [
    {
     "name": "stdout",
     "output_type": "stream",
     "text": [
      "+--------+----------+---+-----------+\n",
      "|    name| last_name|age|        job|\n",
      "+--------+----------+---+-----------+\n",
      "|  Sandra|       Lee| 34|    Surgeon|\n",
      "|   Jacob|     Adams| 40|  Developer|\n",
      "|   Terry|    Morgan| 43|      Nurse|\n",
      "|    Carl|  Peterson| 34|Electrician|\n",
      "| Timothy|   Spanish| 45|     Waiter|\n",
      "|   Peter|    Carter| 44|  Developer|\n",
      "|  Edward|     Perez| 44|    Soldier|\n",
      "|Brittany|     Irish| 28|     Doctor|\n",
      "|Jonathan|   Ramirez| 22|    Doorman|\n",
      "|   Joyce|    Miller| 33|  Scientist|\n",
      "|Virginia|    Nelson| 50|  Paramedic|\n",
      "|  Willie|Vietnamese| 34|  Secretary|\n",
      "|    Gary|   Spanish| 25|      Nurse|\n",
      "|  Elijah|   English| 24|     Waiter|\n",
      "|   Bruce|   Roberts| 43|    Surgeon|\n",
      "| Zachary|     Reyes| 28|  Developer|\n",
      "|  Albert|    Murphy| 29|     Waiter|\n",
      "|  George|   Morales| 48|      Nurse|\n",
      "|    Eric|     Ortiz| 30|      Nurse|\n",
      "|   David|   Spanish| 37|   Reporter|\n",
      "+--------+----------+---+-----------+\n",
      "only showing top 20 rows\n",
      "\n"
     ]
    },
    {
     "name": "stderr",
     "output_type": "stream",
     "text": [
      "[Stage 0:>                                                          (0 + 1) / 1]\r"
     ]
    }
   ],
   "source": [
    "df = spark_session.read.csv(\"/homework3/users\",header=True)\n",
    "df.registerTempTable(\"Users\")\n",
    "df.show()"
   ]
  },
  {
   "cell_type": "markdown",
   "id": "051f1517",
   "metadata": {},
   "source": [
    "\n",
    "\n",
    "\n",
    "<div align=\"right\" dir=\"auto\">\n",
    "   \n",
    "# یک مثال ...\n",
    "    در اینجا به 2 روش روی این دیتا فریم‌ها کوعری میزنیم ولی با یک عملکرد و یک خروجی\n",
    "    میخواهیم تعداد افرادی که بین ۱۸ تا ۲۲ سال سن دارند و دکتر هستند را بفهمیم\n",
    "\n",
    "\n",
    "\n",
    " </div>\n",
    "  \n",
    "    "
   ]
  },
  {
   "cell_type": "code",
   "execution_count": 35,
   "id": "1c76fcea",
   "metadata": {},
   "outputs": [
    {
     "name": "stderr",
     "output_type": "stream",
     "text": [
      "                                                                                \r"
     ]
    },
    {
     "data": {
      "text/plain": [
       "3541"
      ]
     },
     "execution_count": 35,
     "metadata": {},
     "output_type": "execute_result"
    }
   ],
   "source": [
    "new_df = df.filter((col(\"age\")>=18) & (col(\"age\") < 22) & (col(\"job\")==\"Doctor\"))\n",
    "new_df.count()"
   ]
  },
  {
   "cell_type": "code",
   "execution_count": 39,
   "id": "b740a4c8",
   "metadata": {},
   "outputs": [
    {
     "name": "stderr",
     "output_type": "stream",
     "text": [
      "                                                                                \r"
     ]
    },
    {
     "name": "stdout",
     "output_type": "stream",
     "text": [
      "+---------+---------+---+------+\n",
      "|     name|last_name|age|   job|\n",
      "+---------+---------+---+------+\n",
      "|   Willie|  English| 21|Doctor|\n",
      "|   Lauren|  Johnson| 21|Doctor|\n",
      "|Charlotte|   Morris| 20|Doctor|\n",
      "|  Timothy|   Parker| 21|Doctor|\n",
      "| Lawrence| Thompson| 20|Doctor|\n",
      "|  Charles|    Davis| 21|Doctor|\n",
      "|     Ruth|   Wright| 21|Doctor|\n",
      "|  Gregory|   French| 20|Doctor|\n",
      "|   Thomas| Phillips| 21|Doctor|\n",
      "|Charlotte|   Rivera| 21|Doctor|\n",
      "|    Grace|  English| 20|Doctor|\n",
      "|  Brandon|Gutierrez| 21|Doctor|\n",
      "|   Olivia|Hernandez| 20|Doctor|\n",
      "|    Tyler|  English| 20|Doctor|\n",
      "|     Lori|   German| 21|Doctor|\n",
      "|    Megan| Peterson| 20|Doctor|\n",
      "|  Heather|    Jones| 20|Doctor|\n",
      "|    Larry|  English| 20|Doctor|\n",
      "|   Austin|  English| 21|Doctor|\n",
      "|    Jacob|  English| 21|Doctor|\n",
      "+---------+---------+---+------+\n",
      "only showing top 20 rows\n",
      "\n"
     ]
    },
    {
     "data": {
      "text/plain": [
       "3541"
      ]
     },
     "execution_count": 39,
     "metadata": {},
     "output_type": "execute_result"
    },
    {
     "name": "stderr",
     "output_type": "stream",
     "text": [
      "[Stage 0:>                                                          (0 + 1) / 1]\r"
     ]
    }
   ],
   "source": [
    "new_df = spark_session.sql(\"SELECT *  FROM Users where (age>=18 and age <22) and (job='Doctor') \" )\n",
    "new_df.show()\n",
    "new_df.count()"
   ]
  },
  {
   "cell_type": "markdown",
   "id": "87dcae02",
   "metadata": {},
   "source": [
    "\n",
    "<div align=\"right\" dir=\"auto\">\n",
    "   \n",
    "# محاسبه یک کوئری\n",
    "    در این قسمت  از شما انتظار می‌رود که چند کوئری زیر را بزنند و خروجی‌های آن را در فایل‌هایی به نام‌های خواسته شده \n",
    "    بریزند\n",
    "+  /homework3/output/1/ ==> افرادی که Developer هستند و بالای ۳۰ سال سن دارند \n",
    "+ /homework3/output/2/ ==> همه افرادی که فامیلی آن‌ها king است\n",
    " </div>\n",
    "  \n",
    "    \n",
    "\n"
   ]
  },
  {
   "cell_type": "code",
   "execution_count": 27,
   "id": "b771088b",
   "metadata": {},
   "outputs": [],
   "source": [
    "# ToDo\n",
    "# df... or session...\n"
   ]
  },
  {
   "cell_type": "markdown",
   "id": "feb7e6af",
   "metadata": {},
   "source": [
    "\n",
    "<div align=\"right\" dir=\"auto\">\n",
    "   \n",
    "# نوشتن داده و پارتیشنینگ\n",
    "    زمانی که میخواهیم داده های حجیم را به صورت فایل هایی ذخیره کنیم  نمیتوانیم همه داده را در یک فایل بزرگ ذخیره کنیم به چند دلیل :\n",
    "-  ذخیره سازی یک فایل بزرگ باعث ؛تنها نقطه شکست میشود؛ و با حذف آن کل داده از دست میرود\n",
    "- جستجو در این یک فایل بزرگ که مرتب شده نیست دشوار و عملی نیست\n",
    "- آپدیت کردن سخت تر میشود\n",
    "پس تا حدودی حل این میشکل از راه حل های زیر استفاده میکنیم\n",
    "# پارتیشنینگ: \n",
    "-     بر اساس یک فیلد داده هارا دسته بندی میکنیم و در دایرکتوری های مختلف میریزیم این کار را اسپارک برای ما انجام میدهد\n",
    "\n",
    "    \n",
    " </div>\n",
    "  \n",
    "    \n",
    "\n"
   ]
  },
  {
   "cell_type": "code",
   "execution_count": 38,
   "id": "7b4f7135",
   "metadata": {},
   "outputs": [
    {
     "name": "stderr",
     "output_type": "stream",
     "text": [
      "[Stage 0:>                                                          (0 + 1) / 1]\r"
     ]
    }
   ],
   "source": [
    "df.write.partitionBy(\"age\").csv(\"/homework3/example/users\")"
   ]
  },
  {
   "cell_type": "code",
   "execution_count": 62,
   "id": "15d3b1dd",
   "metadata": {},
   "outputs": [
    {
     "name": "stderr",
     "output_type": "stream",
     "text": [
      "[Stage 0:>                                                          (0 + 1) / 1]\r"
     ]
    },
    {
     "name": "stdout",
     "output_type": "stream",
     "text": [
      "+-----------+------------------+-----------------+--------+\n",
      "|        job|           avg_age| stddev_samp(age)|count(1)|\n",
      "+-----------+------------------+-----------------+--------+\n",
      "|      Nurse| 34.94920917394541|8.992485884940477|   55069|\n",
      "|    Surgeon| 34.96302268085564|8.973863547576133|   55818|\n",
      "|  Professor| 34.98332851672567|8.943914066757015|   55364|\n",
      "|  Repairman|34.989303668841586| 8.93561491339813|   56094|\n",
      "|Electrician|34.993322083797075|8.965551076717995|   55706|\n",
      "|     Doctor|34.994257142339535|8.943197500964287|   55199|\n",
      "|  Developer|34.998171289241085|8.955750184756367|   55777|\n",
      "|  Secretary|35.003654454997736|8.938328482743362|   55275|\n",
      "|  Scientist| 35.00581070107371|   8.976795164568|   55415|\n",
      "|    Dentist| 35.00910070005385|8.920510936798935|   55710|\n",
      "|    Soldier| 35.00969794747692| 8.94131695474283|   55785|\n",
      "|    Student| 35.03476710898256|8.945817643332122|   55541|\n",
      "|    Doorman| 35.03542805916629|8.933880142679095|   55775|\n",
      "|  Paramedic|35.036746825182384| 8.92001000320433|   55515|\n",
      "|Businessman| 35.03755876969458|8.944356566685768|   55726|\n",
      "|    Teacher|35.037724572587656|8.929454184711476|   55216|\n",
      "|   Reporter| 35.04874744884137| 8.91949997885344|   55367|\n",
      "|     Waiter|35.054880678550894|8.936529693717556|   55648|\n",
      "+-----------+------------------+-----------------+--------+\n",
      "\n"
     ]
    },
    {
     "name": "stderr",
     "output_type": "stream",
     "text": [
      "[Stage 0:>                                                          (0 + 1) / 1]\r"
     ]
    }
   ],
   "source": [
    "df.groupby(\"job\").agg(mean(\"age\").alias(\"avg_age\") ,stddev(\"age\"),count(\"*\")).sort(\"avg_age\").show()"
   ]
  },
  {
   "cell_type": "code",
   "execution_count": null,
   "id": "dbaf318e",
   "metadata": {},
   "outputs": [],
   "source": []
  },
  {
   "cell_type": "code",
   "execution_count": null,
   "id": "3d987c82",
   "metadata": {},
   "outputs": [],
   "source": []
  },
  {
   "cell_type": "code",
   "execution_count": null,
   "id": "ecb8bffa",
   "metadata": {},
   "outputs": [],
   "source": []
  },
  {
   "cell_type": "code",
   "execution_count": null,
   "id": "a33b9f75",
   "metadata": {},
   "outputs": [],
   "source": []
  },
  {
   "cell_type": "code",
   "execution_count": null,
   "id": "d2dab859",
   "metadata": {},
   "outputs": [],
   "source": []
  },
  {
   "cell_type": "code",
   "execution_count": null,
   "id": "588a5cc3",
   "metadata": {},
   "outputs": [],
   "source": []
  },
  {
   "cell_type": "code",
   "execution_count": null,
   "id": "72522a74",
   "metadata": {},
   "outputs": [],
   "source": []
  },
  {
   "cell_type": "code",
   "execution_count": 5,
   "id": "735118fa",
   "metadata": {},
   "outputs": [],
   "source": [
    "names = \"\"\"James\n",
    "Mary\n",
    "Robert\n",
    "Patricia\n",
    "John\n",
    "Jennifer\n",
    "Michael\n",
    "Linda\n",
    "David\n",
    "Elizabeth\n",
    "William\n",
    "Barbara\n",
    "Richard\n",
    "Susan\n",
    "Joseph\n",
    "Jessica\n",
    "Thomas\n",
    "Sarah\n",
    "Charles\n",
    "Karen\n",
    "Christopher\n",
    "Lisa\n",
    "Daniel\n",
    "Nancy\n",
    "Matthew\n",
    "Betty\n",
    "Anthony\n",
    "Margaret\n",
    "Mark\n",
    "Sandra\n",
    "Donald\n",
    "Ashley\n",
    "Steven\n",
    "Kimberly\n",
    "Paul\n",
    "Emily\n",
    "Andrew\n",
    "Donna\n",
    "Joshua\n",
    "Michelle\n",
    "Kenneth\n",
    "Carol\n",
    "Kevin\n",
    "Amanda\n",
    "Brian\n",
    "Dorothy\n",
    "George\n",
    "Melissa\n",
    "Timothy\n",
    "Deborah\n",
    "Ronald\n",
    "Stephanie\n",
    "Edward\n",
    "Rebecca\n",
    "Jason\n",
    "Sharon\n",
    "Jeffrey\n",
    "Laura\n",
    "Ryan\n",
    "Cynthia\n",
    "Jacob\n",
    "Kathleen\n",
    "Gary\n",
    "Amy\n",
    "Nicholas\n",
    "Angela\n",
    "Eric\n",
    "Shirley\n",
    "Jonathan\n",
    "Anna\n",
    "Stephen\n",
    "Brenda\n",
    "Larry\n",
    "Pamela\n",
    "Justin\n",
    "Emma\n",
    "Scott\n",
    "Nicole\n",
    "Brandon\n",
    "Helen\n",
    "Benjamin\n",
    "Samantha\n",
    "Samuel\n",
    "Katherine\n",
    "Gregory\n",
    "Christine\n",
    "Alexander\n",
    "Debra\n",
    "Frank\n",
    "Rachel\n",
    "Patrick\n",
    "Carolyn\n",
    "Raymond\n",
    "Janet\n",
    "Jack\n",
    "Catherine\n",
    "Dennis\n",
    "Maria\n",
    "Jerry\n",
    "Heather\n",
    "Tyler\n",
    "Diane\n",
    "Aaron\n",
    "Ruth\n",
    "Jose\n",
    "Julie\n",
    "Adam\n",
    "Olivia\n",
    "Nathan\n",
    "Joyce\n",
    "Henry\n",
    "Virginia\n",
    "Douglas\n",
    "Victoria\n",
    "Zachary\n",
    "Kelly\n",
    "Peter\n",
    "Lauren\n",
    "Kyle\n",
    "Christina\n",
    "Ethan\n",
    "Joan\n",
    "Walter\n",
    "Evelyn\n",
    "Noah\n",
    "Judith\n",
    "Jeremy\n",
    "Megan\n",
    "Christian\n",
    "Andrea\n",
    "Keith\n",
    "Cheryl\n",
    "Roger\n",
    "Hannah\n",
    "Terry\n",
    "Jacqueline\n",
    "Gerald\n",
    "Martha\n",
    "Harold\n",
    "Gloria\n",
    "Sean\n",
    "Teresa\n",
    "Austin\n",
    "Ann\n",
    "Carl\n",
    "Sara\n",
    "Arthur\n",
    "Madison\n",
    "Lawrence\n",
    "Frances\n",
    "Dylan\n",
    "Kathryn\n",
    "Jesse\n",
    "Janice\n",
    "Jordan\n",
    "Jean\n",
    "Bryan\n",
    "Abigail\n",
    "Billy\n",
    "Alice\n",
    "Joe\n",
    "Julia\n",
    "Bruce\n",
    "Judy\n",
    "Gabriel\n",
    "Sophia\n",
    "Logan\n",
    "Grace\n",
    "Albert\n",
    "Denise\n",
    "Willie\n",
    "Amber\n",
    "Alan\n",
    "Doris\n",
    "Juan\n",
    "Marilyn\n",
    "Wayne\n",
    "Danielle\n",
    "Elijah\n",
    "Beverly\n",
    "Randy\n",
    "Isabella\n",
    "Roy\n",
    "Theresa\n",
    "Vincent\n",
    "Diana\n",
    "Ralph\n",
    "Natalie\n",
    "Eugene\n",
    "Brittany\n",
    "Russell\n",
    "Charlotte\n",
    "Bobby\n",
    "Marie\n",
    "Mason\n",
    "Kayla\n",
    "Philip\n",
    "Alexis\n",
    "Louis\n",
    "Lori\"\"\""
   ]
  },
  {
   "cell_type": "code",
   "execution_count": 6,
   "id": "feb20db9",
   "metadata": {},
   "outputs": [],
   "source": [
    "names= names.split()"
   ]
  },
  {
   "cell_type": "code",
   "execution_count": 7,
   "id": "aaf8787f",
   "metadata": {},
   "outputs": [
    {
     "data": {
      "text/plain": [
       "200"
      ]
     },
     "execution_count": 7,
     "metadata": {},
     "output_type": "execute_result"
    }
   ],
   "source": [
    "len(names)"
   ]
  },
  {
   "cell_type": "code",
   "execution_count": 8,
   "id": "d64afcf9",
   "metadata": {},
   "outputs": [],
   "source": [
    "jobs = \"\"\"Waiter\n",
    "Paramedic\n",
    "Dentist\n",
    "Nurse\n",
    "Electrician\n",
    "Doctor\n",
    "Businessman\n",
    "Student\n",
    "Surgeon\n",
    "Doorman\n",
    "Secretary\n",
    "Soldier\n",
    "Repairman\n",
    "Scientist\n",
    "Reporter\n",
    "Teacher\n",
    "Developer\n",
    "Professor\"\"\"\n",
    "jobs = jobs.split()\n"
   ]
  },
  {
   "cell_type": "code",
   "execution_count": 9,
   "id": "ff7108b7",
   "metadata": {},
   "outputs": [
    {
     "data": {
      "text/plain": [
       "['Waiter',\n",
       " 'Paramedic',\n",
       " 'Dentist',\n",
       " 'Nurse',\n",
       " 'Electrician',\n",
       " 'Doctor',\n",
       " 'Businessman',\n",
       " 'Student',\n",
       " 'Surgeon',\n",
       " 'Doorman',\n",
       " 'Secretary',\n",
       " 'Soldier',\n",
       " 'Repairman',\n",
       " 'Scientist',\n",
       " 'Reporter',\n",
       " 'Teacher',\n",
       " 'Developer',\n",
       " 'Professor']"
      ]
     },
     "execution_count": 9,
     "metadata": {},
     "output_type": "execute_result"
    }
   ],
   "source": [
    "jobs"
   ]
  },
  {
   "cell_type": "code",
   "execution_count": 10,
   "id": "e38d6982",
   "metadata": {},
   "outputs": [],
   "source": [
    "last_names=\"\"\"Smith\n",
    "English\n",
    "Johnson\n",
    "Scottish\n",
    "Williams\n",
    "Brown\n",
    "Irish\n",
    "Jones\n",
    "Garcia\n",
    "Spanish\n",
    "Miller\n",
    "German\n",
    "French\n",
    "Italian\n",
    "Davis\n",
    "Rodriguez\n",
    "Spanish\n",
    "Martinez\n",
    "Spanish\n",
    "Hernandez\n",
    "Lopez\n",
    "Spanish\n",
    "Gonzales\n",
    "Spanish\n",
    "Wilson\n",
    "Anderson\n",
    "Thomas\n",
    "Taylor\n",
    "English\n",
    "Moore\n",
    "English\n",
    "Jackson\n",
    "English\n",
    "Martin\n",
    "Lee\n",
    "Perez\n",
    "Spanish\n",
    "Thompson\n",
    "White\n",
    "Harris\n",
    "Sanchez\n",
    "Spanish\n",
    "Clark\n",
    "Ramirez\n",
    "Spanish\n",
    "Lewis\n",
    "English\n",
    "Robinson\n",
    "Jewish\n",
    "Walker\n",
    "Young\n",
    "Allen\n",
    "King\n",
    "English\n",
    "Wright\n",
    "English\n",
    "Scott\n",
    "Torres\n",
    "Nguyen\n",
    "Vietnamese\n",
    "Hill\n",
    "English\n",
    "Flores\n",
    "Spanish\n",
    "Green\n",
    "English\n",
    "Adams\n",
    "Nelson\n",
    "Irish\n",
    "Baker\n",
    "English\n",
    "Hall\n",
    "Rivera\n",
    "Spanish\n",
    "Campbell\n",
    "Mitchell\n",
    "Carter\n",
    "English\n",
    "Roberts\n",
    "Gomez\n",
    "Spanish\n",
    "Phillips\n",
    "Welsh\n",
    "Evans\n",
    "Welsh\n",
    "Turner\n",
    "Diaz\n",
    "Parker\n",
    "English\n",
    "Cruz\n",
    "Spanish\n",
    "Edwards\n",
    "English\n",
    "Collins\n",
    "Reyes\n",
    "Spanish\n",
    "Stewart\n",
    "Morris\n",
    "Morales\n",
    "Murphy\n",
    "Irish\n",
    "Cook\n",
    "English\n",
    "Rogers\n",
    "English\n",
    "Gutierrez\n",
    "Spanish\n",
    "Ortiz\n",
    "Spanish\n",
    "Morgan\n",
    "Welsh\n",
    "Cooper\n",
    "Peterson\n",
    "Bailey\n",
    "Reed\n",
    "English\n",
    "Kelly\n",
    "Irish\n",
    "Howard\n",
    "\"\"\"\n",
    "\n",
    "last_names = last_names.split()"
   ]
  },
  {
   "cell_type": "code",
   "execution_count": 11,
   "id": "1e37f694",
   "metadata": {},
   "outputs": [
    {
     "data": {
      "text/plain": [
       "119"
      ]
     },
     "execution_count": 11,
     "metadata": {},
     "output_type": "execute_result"
    }
   ],
   "source": [
    "len(last_names)"
   ]
  },
  {
   "cell_type": "code",
   "execution_count": 12,
   "id": "fefa5505",
   "metadata": {},
   "outputs": [
    {
     "data": {
      "text/plain": [
       "'Kathryn'"
      ]
     },
     "execution_count": 12,
     "metadata": {},
     "output_type": "execute_result"
    }
   ],
   "source": [
    "import random\n",
    "\n",
    "from pyspark.sql import DataFrame \n",
    "\n",
    "random.choice(names)\n"
   ]
  },
  {
   "cell_type": "code",
   "execution_count": 23,
   "id": "4fdd651b",
   "metadata": {},
   "outputs": [
    {
     "name": "stdout",
     "output_type": "stream",
     "text": [
      "+--------+----------+---+-----------+\n",
      "|    name| last_name|age|        job|\n",
      "+--------+----------+---+-----------+\n",
      "|  Sandra|       Lee| 34|    Surgeon|\n",
      "|   Jacob|     Adams| 40|  Developer|\n",
      "|   Terry|    Morgan| 43|      Nurse|\n",
      "|    Carl|  Peterson| 34|Electrician|\n",
      "| Timothy|   Spanish| 45|     Waiter|\n",
      "|   Peter|    Carter| 44|  Developer|\n",
      "|  Edward|     Perez| 44|    Soldier|\n",
      "|Brittany|     Irish| 28|     Doctor|\n",
      "|Jonathan|   Ramirez| 22|    Doorman|\n",
      "|   Joyce|    Miller| 33|  Scientist|\n",
      "|Virginia|    Nelson| 50|  Paramedic|\n",
      "|  Willie|Vietnamese| 34|  Secretary|\n",
      "|    Gary|   Spanish| 25|      Nurse|\n",
      "|  Elijah|   English| 24|     Waiter|\n",
      "|   Bruce|   Roberts| 43|    Surgeon|\n",
      "| Zachary|     Reyes| 28|  Developer|\n",
      "|  Albert|    Murphy| 29|     Waiter|\n",
      "|  George|   Morales| 48|      Nurse|\n",
      "|    Eric|     Ortiz| 30|      Nurse|\n",
      "|   David|   Spanish| 37|   Reporter|\n",
      "+--------+----------+---+-----------+\n",
      "only showing top 20 rows\n",
      "\n"
     ]
    },
    {
     "name": "stderr",
     "output_type": "stream",
     "text": [
      "22/12/09 09:01:09 WARN TaskSetManager: Stage 9 contains a task of very large size (8641 KiB). The maximum recommended task size is 1000 KiB.\n",
      "22/12/09 09:01:09 WARN TaskSetManager: Stage 10 contains a task of very large size (8641 KiB). The maximum recommended task size is 1000 KiB.\n",
      "[Stage 0:>                                                          (0 + 1) / 1]\r"
     ]
    }
   ],
   "source": [
    "df = spark_context.parallelize([Row(name=random.choice(names) ,last_name=random.choice(last_names),age=random.randint(20,50) ,job=random.choice(jobs)) for i in range(1_000_000)]).toDF()\n",
    "df.show()\n",
    "\n",
    "\n"
   ]
  },
  {
   "cell_type": "code",
   "execution_count": 25,
   "id": "b8eb7a32",
   "metadata": {},
   "outputs": [
    {
     "name": "stderr",
     "output_type": "stream",
     "text": [
      "22/12/09 09:01:23 WARN TaskSetManager: Stage 11 contains a task of very large size (34572 KiB). The maximum recommended task size is 1000 KiB.\n",
      "[Stage 0:>                                                          (0 + 1) / 1]\r"
     ]
    }
   ],
   "source": [
    "df.coalesce(1).write.csv(\"/homework3/users\",header=True)"
   ]
  },
  {
   "cell_type": "code",
   "execution_count": null,
   "id": "40a078fa",
   "metadata": {},
   "outputs": [],
   "source": []
  },
  {
   "cell_type": "code",
   "execution_count": null,
   "id": "a596a9bd",
   "metadata": {},
   "outputs": [],
   "source": []
  }
 ],
 "metadata": {
  "kernelspec": {
   "display_name": "Python 3 (ipykernel)",
   "language": "python",
   "name": "python3"
  },
  "language_info": {
   "codemirror_mode": {
    "name": "ipython",
    "version": 3
   },
   "file_extension": ".py",
   "mimetype": "text/x-python",
   "name": "python",
   "nbconvert_exporter": "python",
   "pygments_lexer": "ipython3",
   "version": "3.9.2"
  }
 },
 "nbformat": 4,
 "nbformat_minor": 5
}
